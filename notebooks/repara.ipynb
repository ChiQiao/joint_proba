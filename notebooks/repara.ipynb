{
 "cells": [
  {
   "cell_type": "code",
   "execution_count": 1,
   "metadata": {
    "ExecuteTime": {
     "end_time": "2020-03-14T14:41:47.664528Z",
     "start_time": "2020-03-14T14:41:46.557505Z"
    }
   },
   "outputs": [],
   "source": [
    "import ipywidgets as widgets\n",
    "import matplotlib.pyplot as plt\n",
    "import pandas as pd\n",
    "from scipy import stats\n",
    "from scipy.interpolate import interp1d\n",
    "from scipy.optimize import curve_fit\n",
    "\n",
    "%load_ext autoreload\n",
    "%autoreload 1\n",
    "%aimport joint_prob"
   ]
  },
  {
   "cell_type": "code",
   "execution_count": 2,
   "metadata": {
    "ExecuteTime": {
     "end_time": "2020-03-14T14:41:47.670434Z",
     "start_time": "2020-03-14T14:41:47.665476Z"
    }
   },
   "outputs": [],
   "source": [
    "font_size = 12\n",
    "plt.rc('font', size=font_size)\n",
    "plt.rc('axes', titlesize=font_size)\n",
    "plt.rc('axes', labelsize=font_size)\n",
    "plt.rc('xtick', labelsize=font_size)\n",
    "plt.rc('ytick', labelsize=font_size)\n",
    "plt.rc('legend', fontsize=font_size)\n",
    "plt.rc('figure', titlesize=font_size)"
   ]
  },
  {
   "cell_type": "code",
   "execution_count": 3,
   "metadata": {
    "ExecuteTime": {
     "end_time": "2020-03-14T14:41:47.692418Z",
     "start_time": "2020-03-14T14:41:47.671431Z"
    }
   },
   "outputs": [
    {
     "data": {
      "text/html": [
       "<div>\n",
       "<style scoped>\n",
       "    .dataframe tbody tr th:only-of-type {\n",
       "        vertical-align: middle;\n",
       "    }\n",
       "\n",
       "    .dataframe tbody tr th {\n",
       "        vertical-align: top;\n",
       "    }\n",
       "\n",
       "    .dataframe thead th {\n",
       "        text-align: right;\n",
       "    }\n",
       "</style>\n",
       "<table border=\"1\" class=\"dataframe\">\n",
       "  <thead>\n",
       "    <tr style=\"text-align: right;\">\n",
       "      <th></th>\n",
       "      <th>wind speed (m/s)</th>\n",
       "      <th>significant wave height (m)</th>\n",
       "    </tr>\n",
       "    <tr>\n",
       "      <th>time (YYYY-MM-DD-HH)</th>\n",
       "      <th></th>\n",
       "      <th></th>\n",
       "    </tr>\n",
       "  </thead>\n",
       "  <tbody>\n",
       "    <tr>\n",
       "      <th>1965-01-01 00:00:00</th>\n",
       "      <td>15.3839</td>\n",
       "      <td>3.9879</td>\n",
       "    </tr>\n",
       "    <tr>\n",
       "      <th>1965-01-01 01:00:00</th>\n",
       "      <td>15.4990</td>\n",
       "      <td>4.0086</td>\n",
       "    </tr>\n",
       "  </tbody>\n",
       "</table>\n",
       "</div>"
      ],
      "text/plain": [
       "                       wind speed (m/s)   significant wave height (m)\n",
       "time (YYYY-MM-DD-HH)                                                 \n",
       "1965-01-01 00:00:00             15.3839                        3.9879\n",
       "1965-01-01 01:00:00             15.4990                        4.0086"
      ]
     },
     "execution_count": 3,
     "metadata": {},
     "output_type": "execute_result"
    }
   ],
   "source": [
    "import pickle\n",
    "# df = pd.read_csv('../datasets/D.txt', sep=';', index_col=0, parse_dates=True)\n",
    "with open('../datasets/D.pkl', 'rb') as f:\n",
    "    df = pickle.load(f)\n",
    "df.head(2)"
   ]
  },
  {
   "cell_type": "code",
   "execution_count": 37,
   "metadata": {
    "ExecuteTime": {
     "end_time": "2020-03-14T15:40:58.533753Z",
     "start_time": "2020-03-14T15:40:42.686723Z"
    }
   },
   "outputs": [
    {
     "name": "stdout",
     "output_type": "stream",
     "text": [
      "Step 1/5: Fitting marginal X\n",
      "Step 2/5: Fitting marginal Y\n",
      "Step 3/5: Fitting conditional Y\n"
     ]
    }
   ],
   "source": [
    "class Multivariate:\n",
    "    std_norm = stats.norm()\n",
    "    def __init__(self, df, col_x=0, col_y=1, condY_x=None):\n",
    "        self.x = df.iloc[:, col_x]\n",
    "        self.y = df.iloc[:, col_y]\n",
    "        if condY_x is None:\n",
    "            self.condY_x = np.linspace(x.min(), x.max(), 10)\n",
    "        else:\n",
    "            self.condY_x = condY_x\n",
    "        self.condY_dx = np.diff(condY_x).mean()\n",
    "        \n",
    "\n",
    "    def fit(self, plot_diagnosis=True, verbose=True):\n",
    "        total_steps = 5\n",
    "        if verbose:\n",
    "            print(f'Step 1/{total_steps}: Fitting marginal X')\n",
    "        x_pd = joint_prob.Univariate(self.x, sample_coor=np.linspace(0, 2*self.x.max(), 1000))\n",
    "        x_pd.fit(method_maxima='Annual', method_tail='GumbelChart', method_bulk='Empirical', \n",
    "                 outlier_detect=False, verbose=False)\n",
    "        self.x_pd = x_pd\n",
    "        \n",
    "        if verbose:\n",
    "            print(f'Step 2/{total_steps}: Fitting marginal Y')\n",
    "        y_pd = joint_prob.Univariate(self.y, sample_coor=np.linspace(0, 2*self.y.max(), 1000))\n",
    "        y_pd.fit(method_maxima='Annual', method_tail='GumbelChart', method_bulk='Empirical', \n",
    "                 outlier_detect=False, verbose=False)\n",
    "        self.y_pd = y_pd\n",
    "        \n",
    "        if verbose:\n",
    "            print(f'Step 3/{total_steps}: Fitting conditional Y')\n",
    "        condY_pd = []\n",
    "        for cur_x in self.condY_x:\n",
    "            condY_data = self.y.copy()\n",
    "            condY_data[(self.x < cur_x - self.condY_dx) | (self.x > cur_x + self.condY_dx)] = np.nan\n",
    "            cur_pd = joint_prob.Univariate(condY_data, sample_coor=np.linspace(0, 2*self.x.max(), 1000))\n",
    "            cur_pd.fit(method_maxima='Annual', method_tail='GumbelChart', method_bulk='Empirical', \n",
    "                     outlier_detect=False, verbose=False)\n",
    "            condY_pd.append(cur_pd)\n",
    "        self.condY_pd = condY_pd\n",
    "        \n",
    "        \n",
    "    def predict(self, MRPs):\n",
    "        ''' Construct environmental contour \n",
    "            Parameters:\n",
    "            -----------\n",
    "                MRP: numpy array. Target MRP\n",
    "        '''\n",
    "        \n",
    "        def get_condY_F(x_pd, beta, x):\n",
    "            ''' Return F of condY given beta '''\n",
    "            x_F = interp1d(x_pd.sample_coor, x_pd.sample_F)(x)\n",
    "            x_beta = std_norm.ppf(x_F)\n",
    "            y_beta_square = beta ** 2 - x_beta ** 2\n",
    "            y_beta_square[y_beta_square < 0] = np.nan\n",
    "            y_beta = np.sqrt(y_beta_square)\n",
    "            y_F = std_norm.cdf(y_beta)\n",
    "            return y_beta\n",
    "        \n",
    "        for MRP in MRPs:\n",
    "            beta = std_norm.ppf(1 - 1/self.x_pd.c_rate/MRP)\n",
    "            \n",
    "            # MRP of independent Y for validation\n",
    "            y_mrp = self.y_pd.predict(MRP=MRP)\n",
    "\n",
    "            # Jagged contour\n",
    "            condY_F = get_condY_F(self.x_pd, beta, self.condY_x)\n",
    "\n",
    "            # Determine range of re-parameterization\n",
    "\n",
    "            # Upper contour\n",
    "\n",
    "            # Lower contour\n",
    "\n",
    "            # Combine result\n",
    "    \n",
    "    \n",
    "        \n",
    "    def plot_diagnosis(self):\n",
    "        def plot_pd_diagnosis():\n",
    "            if ' ' in dropdown_pd.value: # contains list index\n",
    "                attr_name, idx = dropdown_pd.value.split(sep=' ')\n",
    "                pd = getattr(self, attr_name)[int(idx)]\n",
    "            else:\n",
    "                pd = getattr(self, dropdown_pd.value)\n",
    "            display(pd.diag_fig)\n",
    "\n",
    "        def update_pd_plot(change):\n",
    "            pd_display.clear_output(wait=True)\n",
    "            with pd_display:\n",
    "                plot_pd_diagnosis()\n",
    "                plt.show()\n",
    "\n",
    "        # Tab 1: Univirate fitting\n",
    "        dropdown_options = [('Marginal X', 'x_pd'), ('Marginal Y', 'y_pd')] +\\\n",
    "            [('Conditional Y at X={:.1f}'.format(condY_x), 'condY_pd {}'.format(idx)) \n",
    "             for idx, condY_x in enumerate(self.condY_x)]\n",
    "        dropdown_pd = widgets.Dropdown(options=dropdown_options, description='Item')\n",
    "        dropdown_pd.observe(update_pd_plot, names=\"value\")\n",
    "        pd_display = widgets.Output()\n",
    "        with pd_display:\n",
    "            plot_pd_diagnosis()\n",
    "            plt.show()\n",
    "        tab1 = widgets.VBox(children=[dropdown_pd, pd_display])\n",
    "\n",
    "        # Tab 2: Multivirate fitting\n",
    "        tab2 = widgets.VBox(children=[])\n",
    "\n",
    "        tab = widgets.Tab(children=[tab1, tab2])\n",
    "        tab.set_title(0, 'Univariate fitting')\n",
    "        tab.set_title(1, 'Multivariate fitting')\n",
    "        return widgets.VBox(children=[tab])\n",
    "\n",
    "self = Multivariate(df, condY_x=np.arange(1, 22))\n",
    "self.fit()\n",
    "# self.plot_diagnosis()"
   ]
  },
  {
   "cell_type": "code",
   "execution_count": 38,
   "metadata": {
    "ExecuteTime": {
     "end_time": "2020-03-14T15:41:11.243950Z",
     "start_time": "2020-03-14T15:41:11.231970Z"
    }
   },
   "outputs": [
    {
     "data": {
      "text/plain": [
       "array([0.00000000e+00, 1.30188984e-06, 2.76164566e-06, 8.98296474e-06,\n",
       "       4.55099285e-05, 1.59835630e-04, 3.40553035e-04, 5.48402778e-04,\n",
       "       8.95668813e-04, 1.34294609e-03, 1.80511012e-03, 2.58463744e-03,\n",
       "       3.32433856e-03, 4.20572589e-03, 5.20991922e-03, 6.45142216e-03,\n",
       "       7.69393653e-03, 8.91114722e-03, 1.03267086e-02, 1.17675219e-02,\n",
       "       1.33537102e-02, 1.50186139e-02, 1.69098725e-02, 1.89287057e-02,\n",
       "       2.08380904e-02, 2.27589204e-02, 2.49706005e-02, 2.72321987e-02,\n",
       "       2.96078025e-02, 3.18743289e-02, 3.42029748e-02, 3.67175623e-02,\n",
       "       3.95075774e-02, 4.23407992e-02, 4.53522738e-02, 4.82209140e-02,\n",
       "       5.16296854e-02, 5.46318340e-02, 5.76987682e-02, 6.12563203e-02,\n",
       "       6.45302836e-02, 6.80357021e-02, 7.16550539e-02, 7.53176625e-02,\n",
       "       7.91611435e-02, 8.33025029e-02, 8.70188491e-02, 9.09040340e-02,\n",
       "       9.48528296e-02, 9.87611046e-02, 1.02859002e-01, 1.07140238e-01,\n",
       "       1.11362152e-01, 1.15844247e-01, 1.20105549e-01, 1.24271680e-01,\n",
       "       1.28649691e-01, 1.33125160e-01, 1.37766207e-01, 1.42135091e-01,\n",
       "       1.46634199e-01, 1.51151217e-01, 1.55611366e-01, 1.60145307e-01,\n",
       "       1.65024490e-01, 1.69667185e-01, 1.74642958e-01, 1.79321760e-01,\n",
       "       1.84016729e-01, 1.89190051e-01, 1.93975723e-01, 1.98803987e-01,\n",
       "       2.03742722e-01, 2.08633868e-01, 2.13625658e-01, 2.18736749e-01,\n",
       "       2.23848724e-01, 2.28997739e-01, 2.34023013e-01, 2.39127465e-01,\n",
       "       2.43980049e-01, 2.48860013e-01, 2.53825420e-01, 2.58880836e-01,\n",
       "       2.63950944e-01, 2.69014155e-01, 2.74012763e-01, 2.79125128e-01,\n",
       "       2.84190813e-01, 2.89432963e-01, 2.94691673e-01, 2.99655607e-01,\n",
       "       3.04866853e-01, 3.10035135e-01, 3.15445709e-01, 3.20585457e-01,\n",
       "       3.25573143e-01, 3.30818163e-01, 3.36081437e-01, 3.41271699e-01,\n",
       "       3.46240835e-01, 3.51481929e-01, 3.56764911e-01, 3.61904977e-01,\n",
       "       3.66949217e-01, 3.72203364e-01, 3.77343431e-01, 3.82903312e-01,\n",
       "       3.88216781e-01, 3.93296800e-01, 3.98163801e-01, 4.03164436e-01,\n",
       "       4.08174947e-01, 4.13483610e-01, 4.18775729e-01, 4.23820992e-01,\n",
       "       4.28990512e-01, 4.34258348e-01, 4.39526359e-01, 4.44192969e-01,\n",
       "       4.49329690e-01, 4.54641861e-01, 4.59698580e-01, 4.64973042e-01,\n",
       "       4.69812209e-01, 4.74830964e-01, 4.79948549e-01, 4.85151395e-01,\n",
       "       4.90365578e-01, 4.95482829e-01, 5.00531632e-01, 5.05611642e-01,\n",
       "       5.10563845e-01, 5.15485248e-01, 5.20361786e-01, 5.25374453e-01,\n",
       "       5.30582598e-01, 5.35553826e-01, 5.40424664e-01, 5.45514535e-01,\n",
       "       5.50558775e-01, 5.55447865e-01, 5.60368923e-01, 5.65156675e-01,\n",
       "       5.70039432e-01, 5.74931752e-01, 5.79928229e-01, 5.84848423e-01,\n",
       "       5.89861969e-01, 5.94804179e-01, 5.99677839e-01, 6.04639941e-01,\n",
       "       6.09624858e-01, 6.14527639e-01, 6.19289019e-01, 6.24585568e-01,\n",
       "       6.29759857e-01, 6.34774552e-01, 6.39799031e-01, 6.44916282e-01,\n",
       "       6.49828188e-01, 6.54752706e-01, 6.59861230e-01, 6.64846826e-01,\n",
       "       6.69872813e-01, 6.74802972e-01, 6.79805956e-01, 6.84551481e-01,\n",
       "       6.89506749e-01, 6.94278133e-01, 6.99284930e-01, 7.04096446e-01,\n",
       "       7.08647859e-01, 7.13167633e-01, 7.17956029e-01, 7.22567454e-01,\n",
       "       7.27158988e-01, 7.31808898e-01, 7.36252946e-01, 7.40434739e-01,\n",
       "       7.44780808e-01, 7.48904222e-01, 7.53160848e-01, 7.57531484e-01,\n",
       "       7.61576429e-01, 7.65844924e-01, 7.69828375e-01, 7.73615293e-01,\n",
       "       7.77573490e-01, 7.81448376e-01, 7.85311917e-01, 7.89029759e-01,\n",
       "       7.92616839e-01, 7.96424450e-01, 8.00048184e-01, 8.03597021e-01,\n",
       "       8.07061448e-01, 8.10628169e-01, 8.14062748e-01, 8.17391208e-01,\n",
       "       8.20889475e-01, 8.24126867e-01, 8.27616948e-01, 8.30922247e-01,\n",
       "       8.34085391e-01, 8.37187510e-01, 8.40343550e-01, 8.43753152e-01,\n",
       "       8.46895930e-01, 8.49784981e-01, 8.52835099e-01, 8.55821332e-01,\n",
       "       8.58754933e-01, 8.61521184e-01, 8.64387826e-01, 8.67320634e-01,\n",
       "       8.69895436e-01, 8.72722215e-01, 8.75391228e-01, 8.78113249e-01,\n",
       "       8.80519291e-01, 8.82991370e-01, 8.85416329e-01, 8.87961033e-01,\n",
       "       8.90377123e-01, 8.92596590e-01, 8.95052543e-01, 8.97285582e-01,\n",
       "       8.99441962e-01, 9.01816770e-01, 9.04036104e-01, 9.06072775e-01,\n",
       "       9.08253597e-01, 9.10261502e-01, 9.12117394e-01, 9.14143545e-01,\n",
       "       9.16048298e-01, 9.18158395e-01, 9.19885582e-01, 9.21721488e-01,\n",
       "       9.23393517e-01, 9.25197429e-01, 9.27047818e-01, 9.28667550e-01,\n",
       "       9.30536126e-01, 9.32235001e-01, 9.33887514e-01, 9.35515690e-01,\n",
       "       9.37239684e-01, 9.39006286e-01, 9.40604433e-01, 9.42203315e-01,\n",
       "       9.43691673e-01, 9.45123511e-01, 9.46510297e-01, 9.47811633e-01,\n",
       "       9.49338300e-01, 9.50794121e-01, 9.52067134e-01, 9.53289809e-01,\n",
       "       9.54563882e-01, 9.55657573e-01, 9.56884080e-01, 9.57989991e-01,\n",
       "       9.59118718e-01, 9.60129093e-01, 9.61152385e-01, 9.62131185e-01,\n",
       "       9.63228634e-01, 9.64202493e-01, 9.65113052e-01, 9.66024047e-01,\n",
       "       9.66899361e-01, 9.67710933e-01, 9.68592082e-01, 9.69588451e-01,\n",
       "       9.70489037e-01, 9.71338276e-01, 9.72119430e-01, 9.72883952e-01,\n",
       "       9.73700884e-01, 9.74388935e-01, 9.75057572e-01, 9.75806693e-01,\n",
       "       9.76445567e-01, 9.77159300e-01, 9.77812527e-01, 9.78443797e-01,\n",
       "       9.79258763e-01, 9.79775874e-01, 9.80412999e-01, 9.81059962e-01,\n",
       "       9.81651984e-01, 9.82226828e-01, 9.82730872e-01, 9.83229964e-01,\n",
       "       9.83736658e-01, 9.84224578e-01, 9.84744401e-01, 9.85256924e-01,\n",
       "       9.85712610e-01, 9.86172789e-01, 9.86607705e-01, 9.87030797e-01,\n",
       "       9.87385132e-01, 9.87750084e-01, 9.88183126e-01, 9.88575049e-01,\n",
       "       9.89041868e-01, 9.89368767e-01, 9.89629529e-01, 9.89912297e-01,\n",
       "       9.90254224e-01, 9.90555765e-01, 9.90831520e-01, 9.91073475e-01,\n",
       "       9.91382205e-01, 9.91674025e-01, 9.91932788e-01, 9.92184867e-01,\n",
       "       9.92421055e-01, 9.92700039e-01, 9.92966791e-01, 9.93155286e-01,\n",
       "       9.93362923e-01, 9.93550657e-01, 9.93782039e-01, 9.94016921e-01,\n",
       "       9.94268772e-01, 9.94455055e-01, 9.94682863e-01, 9.94841785e-01,\n",
       "       9.95036786e-01, 9.95212023e-01, 9.95369646e-01, 9.95552988e-01,\n",
       "       9.95691034e-01, 9.95842043e-01, 9.96024900e-01, 9.96184060e-01,\n",
       "       9.96315955e-01, 9.96435314e-01, 9.96542490e-01, 9.96704890e-01,\n",
       "       9.96830099e-01, 9.96954371e-01, 9.97024710e-01, 9.97152017e-01,\n",
       "       9.97272253e-01, 9.97347732e-01, 9.97422847e-01, 9.97498880e-01,\n",
       "       9.97608033e-01, 9.97696968e-01, 9.97773625e-01, 9.97867344e-01,\n",
       "       9.97930860e-01, 9.97995739e-01, 9.98060863e-01, 9.98141868e-01,\n",
       "       9.98179681e-01, 9.98253829e-01, 9.98327677e-01, 9.98403261e-01,\n",
       "       9.98472866e-01, 9.98544930e-01, 9.98590047e-01, 9.98660964e-01,\n",
       "       9.98707820e-01, 9.98765611e-01, 9.98834171e-01, 9.98882898e-01,\n",
       "       9.98924551e-01, 9.98961283e-01, 9.98997046e-01, 9.99031850e-01,\n",
       "       9.99065708e-01, 9.99098630e-01, 9.99130630e-01, 9.99161720e-01,\n",
       "       9.99191912e-01, 9.99221218e-01, 9.99249653e-01, 9.99277230e-01,\n",
       "       9.99303963e-01, 9.99329867e-01, 9.99354955e-01, 9.99379243e-01,\n",
       "       9.99402747e-01, 9.99425482e-01, 9.99447463e-01, 9.99468708e-01,\n",
       "       9.99489232e-01, 9.99509051e-01, 9.99528183e-01, 9.99546644e-01,\n",
       "       9.99564451e-01, 9.99581621e-01, 9.99598171e-01, 9.99614117e-01,\n",
       "       9.99629476e-01, 9.99644266e-01, 9.99658502e-01, 9.99672202e-01,\n",
       "       9.99685380e-01, 9.99698055e-01, 9.99710241e-01, 9.99721955e-01,\n",
       "       9.99733211e-01, 9.99744025e-01, 9.99754412e-01, 9.99764386e-01,\n",
       "       9.99773963e-01, 9.99783155e-01, 9.99791978e-01, 9.99800443e-01,\n",
       "       9.99808564e-01, 9.99816354e-01, 9.99823826e-01, 9.99830990e-01,\n",
       "       9.99837860e-01, 9.99844446e-01, 9.99850759e-01, 9.99856811e-01,\n",
       "       9.99862610e-01, 9.99868168e-01, 9.99873495e-01, 9.99878598e-01,\n",
       "       9.99883488e-01, 9.99888174e-01, 9.99892662e-01, 9.99896963e-01,\n",
       "       9.99901083e-01, 9.99905030e-01, 9.99908811e-01, 9.99912434e-01,\n",
       "       9.99915904e-01, 9.99919229e-01, 9.99922414e-01, 9.99925466e-01,\n",
       "       9.99928390e-01, 9.99931192e-01, 9.99933876e-01, 9.99936449e-01,\n",
       "       9.99938914e-01, 9.99941276e-01, 9.99943541e-01, 9.99945711e-01,\n",
       "       9.99947792e-01, 9.99949786e-01, 9.99951698e-01, 9.99953532e-01,\n",
       "       9.99955290e-01, 9.99956977e-01, 9.99958594e-01, 9.99960145e-01,\n",
       "       9.99961634e-01, 9.99963062e-01, 9.99964432e-01, 9.99965747e-01,\n",
       "       9.99967010e-01, 9.99968221e-01, 9.99969385e-01, 9.99970502e-01,\n",
       "       9.99971574e-01, 9.99972605e-01, 9.99973594e-01, 9.99974545e-01,\n",
       "       9.99975458e-01, 9.99976336e-01, 9.99977180e-01, 9.99977991e-01,\n",
       "       9.99978771e-01, 9.99979520e-01, 9.99980241e-01, 9.99980934e-01,\n",
       "       9.99981601e-01, 9.99982243e-01, 9.99982860e-01, 9.99983455e-01,\n",
       "       9.99984026e-01, 9.99984577e-01, 9.99985107e-01, 9.99985617e-01,\n",
       "       9.99986109e-01, 9.99986582e-01, 9.99987038e-01, 9.99987477e-01,\n",
       "       9.99987900e-01, 9.99988308e-01, 9.99988701e-01, 9.99989080e-01,\n",
       "       9.99989446e-01, 9.99989798e-01, 9.99990137e-01, 9.99990465e-01,\n",
       "       9.99990781e-01, 9.99991086e-01, 9.99991380e-01, 9.99991663e-01,\n",
       "       9.99991937e-01, 9.99992201e-01, 9.99992456e-01, 9.99992702e-01,\n",
       "       9.99992940e-01, 9.99993170e-01, 9.99993391e-01, 9.99993605e-01,\n",
       "       9.99993812e-01, 9.99994012e-01, 9.99994204e-01, 9.99994391e-01,\n",
       "       9.99994571e-01, 9.99994745e-01, 9.99994913e-01, 9.99995075e-01,\n",
       "       9.99995233e-01, 9.99995384e-01, 9.99995531e-01, 9.99995673e-01,\n",
       "       9.99995810e-01, 9.99995943e-01, 9.99996071e-01, 9.99996195e-01,\n",
       "       9.99996315e-01, 9.99996431e-01, 9.99996544e-01, 9.99996652e-01,\n",
       "       9.99996757e-01, 9.99996859e-01, 9.99996957e-01, 9.99997053e-01,\n",
       "       9.99997145e-01, 9.99997234e-01, 9.99997320e-01, 9.99997404e-01,\n",
       "       9.99997485e-01, 9.99997563e-01, 9.99997639e-01, 9.99997712e-01,\n",
       "       9.99997783e-01, 9.99997852e-01, 9.99997918e-01, 9.99997983e-01,\n",
       "       9.99998045e-01, 9.99998105e-01, 9.99998164e-01, 9.99998221e-01,\n",
       "       9.99998276e-01, 9.99998329e-01, 9.99998380e-01, 9.99998430e-01,\n",
       "       9.99998478e-01, 9.99998525e-01, 9.99998570e-01, 9.99998614e-01,\n",
       "       9.99998657e-01, 9.99998698e-01, 9.99998738e-01, 9.99998777e-01,\n",
       "       9.99998814e-01, 9.99998851e-01, 9.99998886e-01, 9.99998920e-01,\n",
       "       9.99998953e-01, 9.99998985e-01, 9.99999016e-01, 9.99999046e-01,\n",
       "       9.99999075e-01, 9.99999103e-01, 9.99999131e-01, 9.99999157e-01,\n",
       "       9.99999183e-01, 9.99999208e-01, 9.99999232e-01, 9.99999255e-01,\n",
       "       9.99999278e-01, 9.99999300e-01, 9.99999321e-01, 9.99999342e-01,\n",
       "       9.99999362e-01, 9.99999381e-01, 9.99999400e-01, 9.99999418e-01,\n",
       "       9.99999436e-01, 9.99999453e-01, 9.99999470e-01, 9.99999486e-01,\n",
       "       9.99999502e-01, 9.99999517e-01, 9.99999531e-01, 9.99999546e-01,\n",
       "       9.99999559e-01, 9.99999573e-01, 9.99999586e-01, 9.99999598e-01,\n",
       "       9.99999610e-01, 9.99999622e-01, 9.99999634e-01, 9.99999645e-01,\n",
       "       9.99999656e-01, 9.99999666e-01, 9.99999676e-01, 9.99999686e-01,\n",
       "       9.99999695e-01, 9.99999705e-01, 9.99999714e-01, 9.99999722e-01,\n",
       "       9.99999731e-01, 9.99999739e-01, 9.99999747e-01, 9.99999754e-01,\n",
       "       9.99999762e-01, 9.99999769e-01, 9.99999776e-01, 9.99999783e-01,\n",
       "       9.99999789e-01, 9.99999796e-01, 9.99999802e-01, 9.99999808e-01,\n",
       "       9.99999814e-01, 9.99999819e-01, 9.99999825e-01, 9.99999830e-01,\n",
       "       9.99999835e-01, 9.99999840e-01, 9.99999845e-01, 9.99999850e-01,\n",
       "       9.99999854e-01, 9.99999859e-01, 9.99999863e-01, 9.99999867e-01,\n",
       "       9.99999871e-01, 9.99999875e-01, 9.99999879e-01, 9.99999882e-01,\n",
       "       9.99999886e-01, 9.99999889e-01, 9.99999893e-01, 9.99999896e-01,\n",
       "       9.99999899e-01, 9.99999902e-01, 9.99999905e-01, 9.99999908e-01,\n",
       "       9.99999911e-01, 9.99999913e-01, 9.99999916e-01, 9.99999919e-01,\n",
       "       9.99999921e-01, 9.99999923e-01, 9.99999926e-01, 9.99999928e-01,\n",
       "       9.99999930e-01, 9.99999932e-01, 9.99999934e-01, 9.99999936e-01,\n",
       "       9.99999938e-01, 9.99999940e-01, 9.99999942e-01, 9.99999944e-01,\n",
       "       9.99999945e-01, 9.99999947e-01, 9.99999949e-01, 9.99999950e-01,\n",
       "       9.99999952e-01, 9.99999953e-01, 9.99999955e-01, 9.99999956e-01,\n",
       "       9.99999957e-01, 9.99999959e-01, 9.99999960e-01, 9.99999961e-01,\n",
       "       9.99999962e-01, 9.99999963e-01, 9.99999964e-01, 9.99999965e-01,\n",
       "       9.99999967e-01, 9.99999968e-01, 9.99999969e-01, 9.99999969e-01,\n",
       "       9.99999970e-01, 9.99999971e-01, 9.99999972e-01, 9.99999973e-01,\n",
       "       9.99999974e-01, 9.99999975e-01, 9.99999975e-01, 9.99999976e-01,\n",
       "       9.99999977e-01, 9.99999978e-01, 9.99999978e-01, 9.99999979e-01,\n",
       "       9.99999979e-01, 9.99999980e-01, 9.99999981e-01, 9.99999981e-01,\n",
       "       9.99999982e-01, 9.99999982e-01, 9.99999983e-01, 9.99999983e-01,\n",
       "       9.99999984e-01, 9.99999984e-01, 9.99999985e-01, 9.99999985e-01,\n",
       "       9.99999986e-01, 9.99999986e-01, 9.99999987e-01, 9.99999987e-01,\n",
       "       9.99999987e-01, 9.99999988e-01, 9.99999988e-01, 9.99999989e-01,\n",
       "       9.99999989e-01, 9.99999989e-01, 9.99999990e-01, 9.99999990e-01,\n",
       "       9.99999990e-01, 9.99999990e-01, 9.99999991e-01, 9.99999991e-01,\n",
       "       9.99999991e-01, 9.99999992e-01, 9.99999992e-01, 9.99999992e-01,\n",
       "       9.99999992e-01, 9.99999993e-01, 9.99999993e-01, 9.99999993e-01,\n",
       "       9.99999993e-01, 9.99999993e-01, 9.99999994e-01, 9.99999994e-01,\n",
       "       9.99999994e-01, 9.99999994e-01, 9.99999994e-01, 9.99999995e-01,\n",
       "       9.99999995e-01, 9.99999995e-01, 9.99999995e-01, 9.99999995e-01,\n",
       "       9.99999995e-01, 9.99999995e-01, 9.99999996e-01, 9.99999996e-01,\n",
       "       9.99999996e-01, 9.99999996e-01, 9.99999996e-01, 9.99999996e-01,\n",
       "       9.99999996e-01, 9.99999996e-01, 9.99999997e-01, 9.99999997e-01,\n",
       "       9.99999997e-01, 9.99999997e-01, 9.99999997e-01, 9.99999997e-01,\n",
       "       9.99999997e-01, 9.99999997e-01, 9.99999997e-01, 9.99999997e-01,\n",
       "       9.99999997e-01, 9.99999998e-01, 9.99999998e-01, 9.99999998e-01,\n",
       "       9.99999998e-01, 9.99999998e-01, 9.99999998e-01, 9.99999998e-01,\n",
       "       9.99999998e-01, 9.99999998e-01, 9.99999998e-01, 9.99999998e-01,\n",
       "       9.99999998e-01, 9.99999998e-01, 9.99999998e-01, 9.99999998e-01,\n",
       "       9.99999998e-01, 9.99999998e-01, 9.99999999e-01, 9.99999999e-01,\n",
       "       9.99999999e-01, 9.99999999e-01, 9.99999999e-01, 9.99999999e-01,\n",
       "       9.99999999e-01, 9.99999999e-01, 9.99999999e-01, 9.99999999e-01,\n",
       "       9.99999999e-01, 9.99999999e-01, 9.99999999e-01, 9.99999999e-01,\n",
       "       9.99999999e-01, 9.99999999e-01, 9.99999999e-01, 9.99999999e-01,\n",
       "       9.99999999e-01, 9.99999999e-01, 9.99999999e-01, 9.99999999e-01,\n",
       "       9.99999999e-01, 9.99999999e-01, 9.99999999e-01, 9.99999999e-01,\n",
       "       9.99999999e-01, 9.99999999e-01, 9.99999999e-01, 9.99999999e-01,\n",
       "       9.99999999e-01, 9.99999999e-01, 9.99999999e-01, 9.99999999e-01,\n",
       "       9.99999999e-01, 9.99999999e-01, 1.00000000e+00, 1.00000000e+00,\n",
       "       1.00000000e+00, 1.00000000e+00, 1.00000000e+00, 1.00000000e+00,\n",
       "       1.00000000e+00, 1.00000000e+00, 1.00000000e+00, 1.00000000e+00,\n",
       "       1.00000000e+00, 1.00000000e+00, 1.00000000e+00, 1.00000000e+00,\n",
       "       1.00000000e+00, 1.00000000e+00, 1.00000000e+00, 1.00000000e+00,\n",
       "       1.00000000e+00, 1.00000000e+00, 1.00000000e+00, 1.00000000e+00,\n",
       "       1.00000000e+00, 1.00000000e+00, 1.00000000e+00, 1.00000000e+00,\n",
       "       1.00000000e+00, 1.00000000e+00, 1.00000000e+00, 1.00000000e+00,\n",
       "       1.00000000e+00, 1.00000000e+00, 1.00000000e+00, 1.00000000e+00,\n",
       "       1.00000000e+00, 1.00000000e+00, 1.00000000e+00, 1.00000000e+00,\n",
       "       1.00000000e+00, 1.00000000e+00, 1.00000000e+00, 1.00000000e+00,\n",
       "       1.00000000e+00, 1.00000000e+00, 1.00000000e+00, 1.00000000e+00,\n",
       "       1.00000000e+00, 1.00000000e+00, 1.00000000e+00, 1.00000000e+00,\n",
       "       1.00000000e+00, 1.00000000e+00, 1.00000000e+00, 1.00000000e+00,\n",
       "       1.00000000e+00, 1.00000000e+00, 1.00000000e+00, 1.00000000e+00,\n",
       "       1.00000000e+00, 1.00000000e+00, 1.00000000e+00, 1.00000000e+00,\n",
       "       1.00000000e+00, 1.00000000e+00, 1.00000000e+00, 1.00000000e+00,\n",
       "       1.00000000e+00, 1.00000000e+00, 1.00000000e+00, 1.00000000e+00,\n",
       "       1.00000000e+00, 1.00000000e+00, 1.00000000e+00, 1.00000000e+00,\n",
       "       1.00000000e+00, 1.00000000e+00, 1.00000000e+00, 1.00000000e+00,\n",
       "       1.00000000e+00, 1.00000000e+00, 1.00000000e+00, 1.00000000e+00,\n",
       "       1.00000000e+00, 1.00000000e+00, 1.00000000e+00, 1.00000000e+00,\n",
       "       1.00000000e+00, 1.00000000e+00, 1.00000000e+00, 1.00000000e+00,\n",
       "       1.00000000e+00, 1.00000000e+00, 1.00000000e+00, 1.00000000e+00,\n",
       "       1.00000000e+00, 1.00000000e+00, 1.00000000e+00, 1.00000000e+00,\n",
       "       1.00000000e+00, 1.00000000e+00, 1.00000000e+00, 1.00000000e+00,\n",
       "       1.00000000e+00, 1.00000000e+00, 1.00000000e+00, 1.00000000e+00,\n",
       "       1.00000000e+00, 1.00000000e+00, 1.00000000e+00, 1.00000000e+00,\n",
       "       1.00000000e+00, 1.00000000e+00, 1.00000000e+00, 1.00000000e+00,\n",
       "       1.00000000e+00, 1.00000000e+00, 1.00000000e+00, 1.00000000e+00,\n",
       "       1.00000000e+00, 1.00000000e+00, 1.00000000e+00, 1.00000000e+00,\n",
       "       1.00000000e+00, 1.00000000e+00, 1.00000000e+00, 1.00000000e+00,\n",
       "       1.00000000e+00, 1.00000000e+00, 1.00000000e+00, 1.00000000e+00,\n",
       "       1.00000000e+00, 1.00000000e+00, 1.00000000e+00, 1.00000000e+00,\n",
       "       1.00000000e+00, 1.00000000e+00, 1.00000000e+00, 1.00000000e+00,\n",
       "       1.00000000e+00, 1.00000000e+00, 1.00000000e+00, 1.00000000e+00,\n",
       "       1.00000000e+00, 1.00000000e+00, 1.00000000e+00, 1.00000000e+00,\n",
       "       1.00000000e+00, 1.00000000e+00, 1.00000000e+00, 1.00000000e+00,\n",
       "       1.00000000e+00, 1.00000000e+00, 1.00000000e+00, 1.00000000e+00,\n",
       "       1.00000000e+00, 1.00000000e+00, 1.00000000e+00, 1.00000000e+00,\n",
       "       1.00000000e+00, 1.00000000e+00, 1.00000000e+00, 1.00000000e+00,\n",
       "       1.00000000e+00, 1.00000000e+00, 1.00000000e+00, 1.00000000e+00,\n",
       "       1.00000000e+00, 1.00000000e+00, 1.00000000e+00, 1.00000000e+00,\n",
       "       1.00000000e+00, 1.00000000e+00, 1.00000000e+00, 1.00000000e+00,\n",
       "       1.00000000e+00, 1.00000000e+00, 1.00000000e+00, 1.00000000e+00,\n",
       "       1.00000000e+00, 1.00000000e+00, 1.00000000e+00, 1.00000000e+00,\n",
       "       1.00000000e+00, 1.00000000e+00, 1.00000000e+00, 1.00000000e+00])"
      ]
     },
     "execution_count": 38,
     "metadata": {},
     "output_type": "execute_result"
    }
   ],
   "source": [
    "self.x_pd.sample_F"
   ]
  },
  {
   "cell_type": "code",
   "execution_count": 17,
   "metadata": {
    "ExecuteTime": {
     "end_time": "2020-03-14T15:05:52.823208Z",
     "start_time": "2020-03-14T15:05:52.818192Z"
    }
   },
   "outputs": [],
   "source": [
    "std_norm = stats.norm()\n",
    "MRP = 50"
   ]
  },
  {
   "cell_type": "code",
   "execution_count": 22,
   "metadata": {
    "ExecuteTime": {
     "end_time": "2020-03-14T15:06:24.083198Z",
     "start_time": "2020-03-14T15:06:24.077213Z"
    }
   },
   "outputs": [],
   "source": [
    "def get_condY_F(x_pd, beta, x):\n",
    "    ''' Return F of condY given beta '''\n",
    "    x_F = interp1d(x_pd.sample_coor, x_pd.sample_F)(x)\n",
    "    x_beta = std_norm.ppf(x_F)\n",
    "    y_beta_square = beta ** 2 - x_beta ** 2\n",
    "    y_beta_square[y_beta_square < 0] = np.nan\n",
    "    y_beta = np.sqrt(y_beta_square)\n",
    "    y_F = std_norm.cdf(y_beta)\n",
    "    return y_F"
   ]
  },
  {
   "cell_type": "code",
   "execution_count": 26,
   "metadata": {
    "ExecuteTime": {
     "end_time": "2020-03-14T15:10:01.475661Z",
     "start_time": "2020-03-14T15:10:01.470673Z"
    }
   },
   "outputs": [],
   "source": [
    "def get_jaggaed_contour(condY_pd, condY_F):\n",
    "    return np.array([interp1d(pd.sample_F, pd.sample_coor)(F) \n",
    "                     for pd, F in zip(condY_pd, condY_F)])"
   ]
  },
  {
   "cell_type": "code",
   "execution_count": 39,
   "metadata": {
    "ExecuteTime": {
     "end_time": "2020-03-14T15:41:21.921916Z",
     "start_time": "2020-03-14T15:41:21.913899Z"
    }
   },
   "outputs": [],
   "source": [
    "beta = std_norm.ppf(1 - 1/self.x_pd.c_rate/MRP)\n",
    "\n",
    "# MRP of independent Y for validation\n",
    "y_mrp = self.y_pd.predict(MRP=MRP)\n",
    "\n",
    "# Jagged contour\n",
    "condY_F = get_condY_F(self.x_pd, beta, self.condY_x)\n",
    "contour_jag_top = get_jaggaed_contour(self.condY_pd, condY_F)\n",
    "contour_jag_bot = get_jaggaed_contour(self.condY_pd, 1 - condY_F)\n",
    "\n",
    "# Determine range of re-parameterization\n",
    "\n",
    "# Upper contour\n",
    "\n",
    "# Lower contour\n",
    "\n",
    "# Combine result"
   ]
  },
  {
   "cell_type": "code",
   "execution_count": 46,
   "metadata": {
    "ExecuteTime": {
     "end_time": "2020-03-14T15:50:55.197876Z",
     "start_time": "2020-03-14T15:50:55.191892Z"
    }
   },
   "outputs": [
    {
     "data": {
      "text/plain": [
       "array([0.05922169, 0.0401788 , 0.02840144, 0.02698286, 0.03298061,\n",
       "       0.03620441, 0.04958339, 0.05095141, 0.06951354, 0.09819995,\n",
       "       0.1028812 , 0.13055759, 0.14697742, 0.1743486 , 0.18833855,\n",
       "       0.21144297, 0.23813587, 0.27216586, 0.36743272, 0.48048122,\n",
       "       0.50711759])"
      ]
     },
     "execution_count": 46,
     "metadata": {},
     "output_type": "execute_result"
    }
   ],
   "source": [
    "contour_jag_bot"
   ]
  },
  {
   "cell_type": "code",
   "execution_count": 48,
   "metadata": {
    "ExecuteTime": {
     "end_time": "2020-03-14T15:53:12.220998Z",
     "start_time": "2020-03-14T15:53:12.121237Z"
    }
   },
   "outputs": [
    {
     "data": {
      "image/png": "[encoded data removed]",
      "text/plain": [
       "<Figure size 432x288 with 1 Axes>"
      ]
     },
     "metadata": {
      "needs_background": "light"
     },
     "output_type": "display_data"
    }
   ],
   "source": [
    "plt.plot(self.condY_pd[-2].sample_coor, self.condY_pd[-2].sample_F)\n",
    "plt.show()"
   ]
  },
  {
   "cell_type": "code",
   "execution_count": 40,
   "metadata": {
    "ExecuteTime": {
     "end_time": "2020-03-14T15:42:08.045600Z",
     "start_time": "2020-03-14T15:42:07.932901Z"
    }
   },
   "outputs": [
    {
     "data": {
      "image/png": "[encoded data removed]",
      "text/plain": [
       "<Figure size 432x288 with 1 Axes>"
      ]
     },
     "metadata": {
      "needs_background": "light"
     },
     "output_type": "display_data"
    }
   ],
   "source": [
    "plt.plot(self.condY_x, contour_jag_top)\n",
    "plt.plot(self.condY_x, contour_jag_bot)\n",
    "plt.show()"
   ]
  }
 ],
 "metadata": {
  "kernelspec": {
   "display_name": "Python 3",
   "language": "python",
   "name": "python3"
  },
  "language_info": {
   "codemirror_mode": {
    "name": "ipython",
    "version": 3
   },
   "file_extension": ".py",
   "mimetype": "text/x-python",
   "name": "python",
   "nbconvert_exporter": "python",
   "pygments_lexer": "ipython3",
   "version": "3.7.4"
  },
  "toc": {
   "base_numbering": 1,
   "nav_menu": {},
   "number_sections": true,
   "sideBar": true,
   "skip_h1_title": false,
   "title_cell": "Table of Contents",
   "title_sidebar": "Contents",
   "toc_cell": false,
   "toc_position": {},
   "toc_section_display": true,
   "toc_window_display": false
  },
  "varInspector": {
   "cols": {
    "lenName": 16,
    "lenType": 16,
    "lenVar": 40
   },
   "kernels_config": {
    "python": {
     "delete_cmd_postfix": "",
     "delete_cmd_prefix": "del ",
     "library": "var_list.py",
     "varRefreshCmd": "print(var_dic_list())"
    },
    "r": {
     "delete_cmd_postfix": ") ",
     "delete_cmd_prefix": "rm(",
     "library": "var_list.r",
     "varRefreshCmd": "cat(var_dic_list()) "
    }
   },
   "types_to_exclude": [
    "module",
    "function",
    "builtin_function_or_method",
    "instance",
    "_Feature"
   ],
   "window_display": false
  }
 },
 "nbformat": 4,
 "nbformat_minor": 2
}
