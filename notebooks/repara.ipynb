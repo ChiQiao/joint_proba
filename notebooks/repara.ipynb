{
 "cells": [
  {
   "cell_type": "code",
   "execution_count": 1,
   "metadata": {
    "ExecuteTime": {
     "end_time": "2020-03-23T21:51:01.962461Z",
     "start_time": "2020-03-23T21:51:00.848246Z"
    }
   },
   "outputs": [],
   "source": [
    "import ipywidgets as widgets\n",
    "import matplotlib.pyplot as plt\n",
    "import pandas as pd\n",
    "import numpy as np\n",
    "from scipy import stats\n",
    "from scipy.interpolate import interp1d\n",
    "from scipy.optimize import curve_fit, minimize\n",
    "\n",
    "%load_ext autoreload\n",
    "%autoreload 1\n",
    "%aimport joint_proba"
   ]
  },
  {
   "cell_type": "code",
   "execution_count": 2,
   "metadata": {
    "ExecuteTime": {
     "end_time": "2020-03-23T21:51:01.981935Z",
     "start_time": "2020-03-23T21:51:01.977317Z"
    }
   },
   "outputs": [],
   "source": [
    "font_size = 12\n",
    "plt.rc('font', size=font_size)\n",
    "plt.rc('axes', titlesize=font_size)\n",
    "plt.rc('axes', labelsize=font_size)\n",
    "plt.rc('xtick', labelsize=font_size)\n",
    "plt.rc('ytick', labelsize=font_size)\n",
    "plt.rc('legend', fontsize=font_size)\n",
    "plt.rc('figure', titlesize=font_size)"
   ]
  },
  {
   "cell_type": "code",
   "execution_count": 3,
   "metadata": {
    "ExecuteTime": {
     "end_time": "2020-03-23T21:51:02.624222Z",
     "start_time": "2020-03-23T21:51:02.609254Z"
    },
    "scrolled": true
   },
   "outputs": [
    {
     "data": {
      "text/html": [
       "<div>\n",
       "<style scoped>\n",
       "    .dataframe tbody tr th:only-of-type {\n",
       "        vertical-align: middle;\n",
       "    }\n",
       "\n",
       "    .dataframe tbody tr th {\n",
       "        vertical-align: top;\n",
       "    }\n",
       "\n",
       "    .dataframe thead th {\n",
       "        text-align: right;\n",
       "    }\n",
       "</style>\n",
       "<table border=\"1\" class=\"dataframe\">\n",
       "  <thead>\n",
       "    <tr style=\"text-align: right;\">\n",
       "      <th></th>\n",
       "      <th>wind speed (m/s)</th>\n",
       "      <th>significant wave height (m)</th>\n",
       "    </tr>\n",
       "    <tr>\n",
       "      <th>time (YYYY-MM-DD-HH)</th>\n",
       "      <th></th>\n",
       "      <th></th>\n",
       "    </tr>\n",
       "  </thead>\n",
       "  <tbody>\n",
       "    <tr>\n",
       "      <th>1965-01-01 00:00:00</th>\n",
       "      <td>15.3839</td>\n",
       "      <td>3.9879</td>\n",
       "    </tr>\n",
       "    <tr>\n",
       "      <th>1965-01-01 01:00:00</th>\n",
       "      <td>15.4990</td>\n",
       "      <td>4.0086</td>\n",
       "    </tr>\n",
       "  </tbody>\n",
       "</table>\n",
       "</div>"
      ],
      "text/plain": [
       "                       wind speed (m/s)   significant wave height (m)\n",
       "time (YYYY-MM-DD-HH)                                                 \n",
       "1965-01-01 00:00:00             15.3839                        3.9879\n",
       "1965-01-01 01:00:00             15.4990                        4.0086"
      ]
     },
     "execution_count": 3,
     "metadata": {},
     "output_type": "execute_result"
    }
   ],
   "source": [
    "import pickle\n",
    "# df = pd.read_csv('../datasets/D.txt', sep=';', index_col=0, parse_dates=True)\n",
    "with open('../datasets/D.pkl', 'rb') as f:\n",
    "    df = pickle.load(f)\n",
    "df.head(2)"
   ]
  },
  {
   "cell_type": "code",
   "execution_count": 4,
   "metadata": {
    "ExecuteTime": {
     "end_time": "2020-03-23T21:51:55.589943Z",
     "start_time": "2020-03-23T21:51:04.000101Z"
    }
   },
   "outputs": [
    {
     "name": "stdout",
     "output_type": "stream",
     "text": [
      "Fitting marginal X\n",
      "Fitting marginal Y\n",
      "Fitting discrete conditional Y\n",
      "Fitting continuous conditional Y using bulk\n"
     ]
    }
   ],
   "source": [
    "self = joint_proba.Multivariate(df, condY_x=np.arange(1, 22))\n",
    "self.fit()\n",
    "# self.plot_diagnosis()"
   ]
  },
  {
   "cell_type": "markdown",
   "metadata": {},
   "source": [
    "## Predict method"
   ]
  },
  {
   "cell_type": "code",
   "execution_count": null,
   "metadata": {
    "ExecuteTime": {
     "end_time": "2020-03-23T21:59:29.543584Z",
     "start_time": "2020-03-23T21:52:02.485139Z"
    }
   },
   "outputs": [],
   "source": [
    "mrp = 50\n",
    "range_ratio = 10\n",
    "\n",
    "# MRP of independent Y for validation\n",
    "y_mrp = self.y_dist.predict(mrp=mrp)\n",
    "\n",
    "# Jagged contour\n",
    "contour_jag = self._get_jaggaed_contour(mrp)\n",
    "\n",
    "# Smooth contour\n",
    "# Method 1: Using bulk fitting\n",
    "contours_bulk = {}\n",
    "for condY in self.condY_cont_dists_bulk:\n",
    "    res = self._get_smooth_contour(condY, mrp)\n",
    "    dist_name = res.pop('dist_name')\n",
    "    contours_bulk[dist_name] = res\n",
    "    \n",
    "# Method 2: Using tail re-para"
   ]
  },
  {
   "cell_type": "code",
   "execution_count": null,
   "metadata": {
    "ExecuteTime": {
     "end_time": "2020-03-23T21:59:29.543584Z",
     "start_time": "2020-03-23T21:52:02.485139Z"
    }
   },
   "outputs": [],
   "source": [
    "def _get_repara_contour(self, mrp, range_ratio):\n",
    "    df = self._get_condY_para_tail(mrp, range_ratio=10)\n",
    "    condY_cont_dists_tail = self._fit_condY_cont(df)\n",
    "    contours_tail = {}\n",
    "    for condY in condY_cont_dists_tail:\n",
    "        res = self._get_smooth_contour(condY, mrp)\n",
    "        dist_name = res.pop('dist_name')\n",
    "        contours_tail[dist_name] = res\n",
    "\n",
    "    # Evaluate contour using the jagged contour and y_mrp\n",
    "    err_emp, err_apex = [], []\n",
    "    ct_emp = contour_jag['y_top']\n",
    "    for dist_name, ct_tail in contours_tail.items():\n",
    "        ct_pred = interp1d(\n",
    "            ct_tail['x'], ct_tail['y_top']\n",
    "        )(self.condY_x) \n",
    "        mse = np.mean((ct_pred - ct_emp) ** 2)\n",
    "        err_emp.append(np.sqrt(mse))\n",
    "        err_apex.append(np.abs(np.nanmax(ct_tail['y_top']) - y_mrp))\n",
    "    df['err_emp'] = err_emp\n",
    "    df['err_apex'] = err_apex\n",
    "    df['err'] = df.loc[:,['err_emp', 'err_apex']].mean(axis=1)\n",
    "\n",
    "    # Select good candidates\n",
    "    df = df[df['err'] < df['err'].min() * 5]\n",
    "    df = df.sort_values('err')\n",
    "    contours_tail = {dist_name: ct for dist_name, ct in contours_tail.items() if dist_name in df.index}\n",
    "    condY_cont_dists_tail = [condY for condY in condY_cont_dists_tail if condY.dist_name in df.index]\n",
    "    return contours_tail, condY_cont_dists_tail"
   ]
  },
  {
   "cell_type": "code",
   "execution_count": 21,
   "metadata": {
    "ExecuteTime": {
     "end_time": "2020-03-23T22:30:07.643964Z",
     "start_time": "2020-03-23T22:30:07.482368Z"
    }
   },
   "outputs": [
    {
     "data": {
      "image/png": "[encoded data removed]",
      "text/plain": [
       "<Figure size 432x288 with 1 Axes>"
      ]
     },
     "metadata": {
      "needs_background": "light"
     },
     "output_type": "display_data"
    }
   ],
   "source": [
    "plt.plot(contour_jag['x'], contour_jag['y_top'], 'r.-')\n",
    "plt.plot(contour_jag['x'], contour_jag['y_bot'], 'r.-')\n",
    "plt.plot(plt.xlim(), [y_mrp, y_mrp], 'r--')\n",
    "for dist_name, contour in contours_tail.items():\n",
    "    plt.plot(contour['x'], contour['y_top'], label=dist_name)\n",
    "#     plt.plot(self.x_pd.sample_coor, contour['contour_top'], h[0].get_color())\n",
    "plt.plot(plt.xlim(), [y_mrp, y_mrp], 'r--')\n",
    "plt.legend(loc='best')\n",
    "plt.show()"
   ]
  }
 ],
 "metadata": {
  "kernelspec": {
   "display_name": "Python 3",
   "language": "python",
   "name": "python3"
  },
  "language_info": {
   "codemirror_mode": {
    "name": "ipython",
    "version": 3
   },
   "file_extension": ".py",
   "mimetype": "text/x-python",
   "name": "python",
   "nbconvert_exporter": "python",
   "pygments_lexer": "ipython3",
   "version": "3.7.4"
  },
  "toc": {
   "base_numbering": 1,
   "nav_menu": {},
   "number_sections": true,
   "sideBar": true,
   "skip_h1_title": false,
   "title_cell": "Table of Contents",
   "title_sidebar": "Contents",
   "toc_cell": false,
   "toc_position": {},
   "toc_section_display": true,
   "toc_window_display": false
  },
  "varInspector": {
   "cols": {
    "lenName": 16,
    "lenType": 16,
    "lenVar": 40
   },
   "kernels_config": {
    "python": {
     "delete_cmd_postfix": "",
     "delete_cmd_prefix": "del ",
     "library": "var_list.py",
     "varRefreshCmd": "print(var_dic_list())"
    },
    "r": {
     "delete_cmd_postfix": ") ",
     "delete_cmd_prefix": "rm(",
     "library": "var_list.r",
     "varRefreshCmd": "cat(var_dic_list()) "
    }
   },
   "types_to_exclude": [
    "module",
    "function",
    "builtin_function_or_method",
    "instance",
    "_Feature"
   ],
   "window_display": false
  }
 },
 "nbformat": 4,
 "nbformat_minor": 2
}
