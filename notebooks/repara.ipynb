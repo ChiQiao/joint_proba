{
 "cells": [
  {
   "cell_type": "code",
   "execution_count": 1,
   "metadata": {
    "ExecuteTime": {
     "end_time": "2020-03-18T03:19:55.156481Z",
     "start_time": "2020-03-18T03:19:54.113599Z"
    }
   },
   "outputs": [],
   "source": [
    "import ipywidgets as widgets\n",
    "import matplotlib.pyplot as plt\n",
    "import pandas as pd\n",
    "import numpy as np\n",
    "from scipy import stats\n",
    "from scipy.interpolate import interp1d\n",
    "from scipy.optimize import curve_fit\n",
    "\n",
    "%load_ext autoreload\n",
    "%autoreload 1\n",
    "%aimport joint_proba"
   ]
  },
  {
   "cell_type": "code",
   "execution_count": 2,
   "metadata": {
    "ExecuteTime": {
     "end_time": "2020-03-18T03:19:55.300190Z",
     "start_time": "2020-03-18T03:19:55.295203Z"
    }
   },
   "outputs": [],
   "source": [
    "font_size = 12\n",
    "plt.rc('font', size=font_size)\n",
    "plt.rc('axes', titlesize=font_size)\n",
    "plt.rc('axes', labelsize=font_size)\n",
    "plt.rc('xtick', labelsize=font_size)\n",
    "plt.rc('ytick', labelsize=font_size)\n",
    "plt.rc('legend', fontsize=font_size)\n",
    "plt.rc('figure', titlesize=font_size)"
   ]
  },
  {
   "cell_type": "code",
   "execution_count": 3,
   "metadata": {
    "ExecuteTime": {
     "end_time": "2020-03-18T03:19:56.180537Z",
     "start_time": "2020-03-18T03:19:56.158566Z"
    }
   },
   "outputs": [
    {
     "data": {
      "text/html": [
       "<div>\n",
       "<style scoped>\n",
       "    .dataframe tbody tr th:only-of-type {\n",
       "        vertical-align: middle;\n",
       "    }\n",
       "\n",
       "    .dataframe tbody tr th {\n",
       "        vertical-align: top;\n",
       "    }\n",
       "\n",
       "    .dataframe thead th {\n",
       "        text-align: right;\n",
       "    }\n",
       "</style>\n",
       "<table border=\"1\" class=\"dataframe\">\n",
       "  <thead>\n",
       "    <tr style=\"text-align: right;\">\n",
       "      <th></th>\n",
       "      <th>wind speed (m/s)</th>\n",
       "      <th>significant wave height (m)</th>\n",
       "    </tr>\n",
       "    <tr>\n",
       "      <th>time (YYYY-MM-DD-HH)</th>\n",
       "      <th></th>\n",
       "      <th></th>\n",
       "    </tr>\n",
       "  </thead>\n",
       "  <tbody>\n",
       "    <tr>\n",
       "      <th>1965-01-01 00:00:00</th>\n",
       "      <td>15.3839</td>\n",
       "      <td>3.9879</td>\n",
       "    </tr>\n",
       "    <tr>\n",
       "      <th>1965-01-01 01:00:00</th>\n",
       "      <td>15.4990</td>\n",
       "      <td>4.0086</td>\n",
       "    </tr>\n",
       "  </tbody>\n",
       "</table>\n",
       "</div>"
      ],
      "text/plain": [
       "                       wind speed (m/s)   significant wave height (m)\n",
       "time (YYYY-MM-DD-HH)                                                 \n",
       "1965-01-01 00:00:00             15.3839                        3.9879\n",
       "1965-01-01 01:00:00             15.4990                        4.0086"
      ]
     },
     "execution_count": 3,
     "metadata": {},
     "output_type": "execute_result"
    }
   ],
   "source": [
    "import pickle\n",
    "# df = pd.read_csv('../datasets/D.txt', sep=';', index_col=0, parse_dates=True)\n",
    "with open('../datasets/D.pkl', 'rb') as f:\n",
    "    df = pickle.load(f)\n",
    "df.head(2)"
   ]
  },
  {
   "cell_type": "code",
   "execution_count": 4,
   "metadata": {
    "ExecuteTime": {
     "end_time": "2020-03-18T03:20:21.596817Z",
     "start_time": "2020-03-18T03:20:00.257156Z"
    }
   },
   "outputs": [
    {
     "name": "stdout",
     "output_type": "stream",
     "text": [
      "Step 1/5: Fitting marginal X\n",
      "Step 2/5: Fitting marginal Y\n",
      "Step 3/5: Fitting conditional Y\n"
     ]
    },
    {
     "data": {
      "application/vnd.jupyter.widget-view+json": {
       "model_id": "80e6c2e9d3ac43a7b94186e89f2fb932",
       "version_major": 2,
       "version_minor": 0
      },
      "text/plain": [
       "VBox(children=(Tab(children=(VBox(children=(Dropdown(description='Item', options=(('Marginal X', 'x_pd'), ('Ma…"
      ]
     },
     "metadata": {},
     "output_type": "display_data"
    }
   ],
   "source": [
    "class Multivariate:\n",
    "    std_norm = stats.norm()\n",
    "    def __init__(self, df, col_x=0, col_y=1, condY_x=None):\n",
    "        self.x = df.iloc[:, col_x]\n",
    "        self.y = df.iloc[:, col_y]\n",
    "        if condY_x is None:\n",
    "            self.condY_x = np.linspace(x.min(), x.max(), 10)\n",
    "        else:\n",
    "            self.condY_x = condY_x\n",
    "        self.condY_dx = np.diff(condY_x).mean()\n",
    "        \n",
    "\n",
    "    def fit(self, plot_diagnosis=True, verbose=True):\n",
    "        total_steps = 5\n",
    "        if verbose:\n",
    "            print(f'Step 1/{total_steps}: Fitting marginal X')\n",
    "        x_pd = joint_proba.Univariate(self.x, sample_coor=np.linspace(0, 2*self.x.max(), 1000))\n",
    "        x_pd.fit(maxima_extract='Annual', maxima_fit='GumbelChart', method_bulk='Empirical', \n",
    "                 outlier_detect=False, verbose=False)\n",
    "        self.x_pd = x_pd\n",
    "        \n",
    "        if verbose:\n",
    "            print(f'Step 2/{total_steps}: Fitting marginal Y')\n",
    "        y_pd = joint_proba.Univariate(self.y, sample_coor=np.linspace(0, 2*self.y.max(), 1000))\n",
    "        y_pd.fit(maxima_extract='Annual', maxima_fit='GumbelChart', method_bulk='Empirical', \n",
    "                 outlier_detect=False, verbose=False)\n",
    "        self.y_pd = y_pd\n",
    "        \n",
    "        if verbose:\n",
    "            print(f'Step 3/{total_steps}: Fitting conditional Y')\n",
    "        condY_pd = []\n",
    "        for cur_x in self.condY_x:\n",
    "            condY_data = self.y.copy()\n",
    "            condY_data[(self.x < cur_x - self.condY_dx) | (self.x > cur_x + self.condY_dx)] = np.nan\n",
    "            cur_pd = joint_proba.Univariate(condY_data, sample_coor=np.linspace(0, 2*self.x.max(), 1000))\n",
    "            cur_pd.fit(maxima_extract='Annual', maxima_fit='GumbelChart', method_bulk='Empirical', \n",
    "                     outlier_detect=False, verbose=False)\n",
    "            condY_pd.append(cur_pd)\n",
    "        self.condY_pd = condY_pd\n",
    "        \n",
    "    def predict(self, MRPs):\n",
    "        ''' Construct environmental contour \n",
    "            Parameters:\n",
    "            -----------\n",
    "                MRP: numpy array. Target MRP\n",
    "        '''\n",
    "        \n",
    "        def get_condY_F(x_pd, beta, x):\n",
    "            ''' Return F of condY given beta '''\n",
    "            x_F = interp1d(x_pd.sample_coor, x_pd.sample_F)(x)\n",
    "            x_beta = std_norm.ppf(x_F)\n",
    "            y_beta_square = beta ** 2 - x_beta ** 2\n",
    "            y_beta_square[y_beta_square < 0] = np.nan\n",
    "            y_beta = np.sqrt(y_beta_square)\n",
    "            y_F = std_norm.cdf(y_beta)\n",
    "            return y_beta\n",
    "        \n",
    "        for MRP in MRPs:\n",
    "            beta = std_norm.ppf(1 - 1/self.x_pd.c_rate/MRP)\n",
    "            \n",
    "            # MRP of independent Y for validation\n",
    "            y_mrp = self.y_pd.predict(MRP=MRP)\n",
    "\n",
    "            # Jagged contour\n",
    "            condY_F = get_condY_F(self.x_pd, beta, self.condY_x)\n",
    "\n",
    "            # Determine range of re-parameterization\n",
    "\n",
    "            # Upper contour\n",
    "\n",
    "            # Lower contour\n",
    "\n",
    "            # Combine result\n",
    "    \n",
    "    \n",
    "        \n",
    "    def plot_diagnosis(self):\n",
    "        def plot_pd_diagnosis():\n",
    "            if ' ' in dropdown_pd.value: # contains list index\n",
    "                attr_name, idx = dropdown_pd.value.split(sep=' ')\n",
    "                pd = getattr(self, attr_name)[int(idx)]\n",
    "            else:\n",
    "                pd = getattr(self, dropdown_pd.value)\n",
    "            display(pd.diag_fig)\n",
    "\n",
    "        def update_pd_plot(change):\n",
    "            pd_display.clear_output(wait=True)\n",
    "            with pd_display:\n",
    "                plot_pd_diagnosis()\n",
    "                plt.show()\n",
    "\n",
    "        # Tab 1: Univirate fitting\n",
    "        dropdown_options = [('Marginal X', 'x_pd'), ('Marginal Y', 'y_pd')] +\\\n",
    "            [('Conditional Y at X={:.1f}'.format(condY_x), 'condY_pd {}'.format(idx)) \n",
    "             for idx, condY_x in enumerate(self.condY_x)]\n",
    "        dropdown_pd = widgets.Dropdown(options=dropdown_options, description='Item')\n",
    "        dropdown_pd.observe(update_pd_plot, names=\"value\")\n",
    "        pd_display = widgets.Output()\n",
    "        with pd_display:\n",
    "            plot_pd_diagnosis()\n",
    "            plt.show()\n",
    "        tab1 = widgets.VBox(children=[dropdown_pd, pd_display])\n",
    "\n",
    "        # Tab 2: Multivirate fitting\n",
    "        tab2 = widgets.VBox(children=[])\n",
    "\n",
    "        tab = widgets.Tab(children=[tab1, tab2])\n",
    "        tab.set_title(0, 'Univariate fitting')\n",
    "        tab.set_title(1, 'Multivariate fitting')\n",
    "        return widgets.VBox(children=[tab])\n",
    "\n",
    "self = Multivariate(df, condY_x=np.arange(1, 22))\n",
    "self.fit()\n",
    "self.plot_diagnosis()"
   ]
  },
  {
   "cell_type": "code",
   "execution_count": 6,
   "metadata": {
    "ExecuteTime": {
     "end_time": "2020-03-18T03:20:39.715628Z",
     "start_time": "2020-03-18T03:20:39.710657Z"
    }
   },
   "outputs": [],
   "source": [
    "std_norm = stats.norm()\n",
    "MRP = 50"
   ]
  },
  {
   "cell_type": "code",
   "execution_count": 7,
   "metadata": {
    "ExecuteTime": {
     "end_time": "2020-03-18T03:20:41.075639Z",
     "start_time": "2020-03-18T03:20:41.070649Z"
    }
   },
   "outputs": [],
   "source": [
    "def get_condY_F(x_pd, beta, x):\n",
    "    ''' Return F of condY given beta '''\n",
    "    x_F = interp1d(x_pd.sample_coor, x_pd.sample_F)(x)\n",
    "    x_beta = std_norm.ppf(x_F)\n",
    "    y_beta_square = beta ** 2 - x_beta ** 2\n",
    "    y_beta_square[y_beta_square < 0] = np.nan\n",
    "    y_beta = np.sqrt(y_beta_square)\n",
    "    with np.errstate(invalid='ignore'):\n",
    "        y_F = std_norm.cdf(y_beta)\n",
    "    return y_F"
   ]
  },
  {
   "cell_type": "code",
   "execution_count": 8,
   "metadata": {
    "ExecuteTime": {
     "end_time": "2020-03-18T03:20:42.210204Z",
     "start_time": "2020-03-18T03:20:42.207182Z"
    }
   },
   "outputs": [],
   "source": [
    "def get_jaggaed_contour(condY_pd, condY_F):\n",
    "    return np.array([interp1d(pd.sample_F, pd.sample_coor)(F) \n",
    "                     for pd, F in zip(condY_pd, condY_F)])"
   ]
  },
  {
   "cell_type": "code",
   "execution_count": 36,
   "metadata": {
    "ExecuteTime": {
     "end_time": "2020-03-18T04:10:09.950795Z",
     "start_time": "2020-03-18T04:10:09.946836Z"
    }
   },
   "outputs": [],
   "source": [
    "with open('../config/dist_repara.json') as json_file: \n",
    "    dist_config = json.load(json_file) "
   ]
  },
  {
   "cell_type": "code",
   "execution_count": 29,
   "metadata": {
    "ExecuteTime": {
     "end_time": "2020-03-18T04:03:09.152243Z",
     "start_time": "2020-03-18T04:03:09.147257Z"
    }
   },
   "outputs": [
    {
     "name": "stdout",
     "output_type": "stream",
     "text": [
      "['burr12' 'expon' 'fatiguelife' 'gamma' 'genextreme' 'genpareto'\n",
      " 'gumbel_r' 'invgauss' 'logistic' 'lognorm' 'nakagami' 'norm' 'rayleigh'\n",
      " 'weibull_min']\n"
     ]
    }
   ],
   "source": [
    "dist_names = np.array([\n",
    "    'burr12', 'expon', 'fatiguelife', 'gamma', 'genextreme', \n",
    "    'genpareto', 'gumbel_r', 'invgauss', 'logistic', \n",
    "    'lognorm', 'nakagami', 'norm', 'rayleigh', 'weibull_min',\n",
    "]) # Candidates for re-para\n",
    "\n",
    "idx_valid = np.array([dist in dist_config for dist in dist_names])\n",
    "if not all(idx_valid):\n",
    "    warnings.warn(f'Distribution {dist_names[~idx_valid]} is not included in '\n",
    "                  'dist_repara.json and will be ignored')\n",
    "    dist_names = dist_names[idx_valid]\n"
   ]
  },
  {
   "cell_type": "code",
   "execution_count": 45,
   "metadata": {
    "ExecuteTime": {
     "end_time": "2020-03-18T04:14:08.060400Z",
     "start_time": "2020-03-18T04:13:36.266134Z"
    }
   },
   "outputs": [
    {
     "data": {
      "text/html": [
       "<div>\n",
       "<style scoped>\n",
       "    .dataframe tbody tr th:only-of-type {\n",
       "        vertical-align: middle;\n",
       "    }\n",
       "\n",
       "    .dataframe tbody tr th {\n",
       "        vertical-align: top;\n",
       "    }\n",
       "\n",
       "    .dataframe thead th {\n",
       "        text-align: right;\n",
       "    }\n",
       "</style>\n",
       "<table border=\"1\" class=\"dataframe\">\n",
       "  <thead>\n",
       "    <tr style=\"text-align: right;\">\n",
       "      <th></th>\n",
       "      <th>chi_square</th>\n",
       "    </tr>\n",
       "  </thead>\n",
       "  <tbody>\n",
       "    <tr>\n",
       "      <th>fatiguelife</th>\n",
       "      <td>2.228790e+02</td>\n",
       "    </tr>\n",
       "    <tr>\n",
       "      <th>invgauss</th>\n",
       "      <td>2.282718e+02</td>\n",
       "    </tr>\n",
       "    <tr>\n",
       "      <th>genextreme</th>\n",
       "      <td>2.976917e+02</td>\n",
       "    </tr>\n",
       "    <tr>\n",
       "      <th>gumbel_r</th>\n",
       "      <td>4.329262e+02</td>\n",
       "    </tr>\n",
       "    <tr>\n",
       "      <th>burr12</th>\n",
       "      <td>6.695982e+02</td>\n",
       "    </tr>\n",
       "    <tr>\n",
       "      <th>gamma</th>\n",
       "      <td>1.728394e+03</td>\n",
       "    </tr>\n",
       "    <tr>\n",
       "      <th>logistic</th>\n",
       "      <td>3.272575e+03</td>\n",
       "    </tr>\n",
       "    <tr>\n",
       "      <th>lognorm</th>\n",
       "      <td>5.633794e+03</td>\n",
       "    </tr>\n",
       "    <tr>\n",
       "      <th>genpareto</th>\n",
       "      <td>1.193094e+04</td>\n",
       "    </tr>\n",
       "    <tr>\n",
       "      <th>expon</th>\n",
       "      <td>1.982080e+04</td>\n",
       "    </tr>\n",
       "    <tr>\n",
       "      <th>rayleigh</th>\n",
       "      <td>2.240990e+07</td>\n",
       "    </tr>\n",
       "    <tr>\n",
       "      <th>nakagami</th>\n",
       "      <td>inf</td>\n",
       "    </tr>\n",
       "    <tr>\n",
       "      <th>norm</th>\n",
       "      <td>NaN</td>\n",
       "    </tr>\n",
       "    <tr>\n",
       "      <th>weibull_min</th>\n",
       "      <td>NaN</td>\n",
       "    </tr>\n",
       "  </tbody>\n",
       "</table>\n",
       "</div>"
      ],
      "text/plain": [
       "               chi_square\n",
       "fatiguelife  2.228790e+02\n",
       "invgauss     2.282718e+02\n",
       "genextreme   2.976917e+02\n",
       "gumbel_r     4.329262e+02\n",
       "burr12       6.695982e+02\n",
       "gamma        1.728394e+03\n",
       "logistic     3.272575e+03\n",
       "lognorm      5.633794e+03\n",
       "genpareto    1.193094e+04\n",
       "expon        1.982080e+04\n",
       "rayleigh     2.240990e+07\n",
       "nakagami              inf\n",
       "norm                  NaN\n",
       "weibull_min           NaN"
      ]
     },
     "execution_count": 45,
     "metadata": {},
     "output_type": "execute_result"
    }
   ],
   "source": [
    "df = pd.DataFrame()\n",
    "for condY_pd in self.condY_pd:\n",
    "    data = condY_pd.data\n",
    "    df_cur = joint_proba.Univariate.best_fit(data, dist_names=dist_names, dist_config=dist_config)\n",
    "    df_temp = df_cur.set_index('Distribution')['chi_square']\n",
    "    df = pd.concat([df, df_temp], axis=1)\n",
    "df_fit = df.mean(axis=1, skipna=False).to_frame(name='chi_square').sort_values(by='chi_square')\n",
    "df_fit"
   ]
  },
  {
   "cell_type": "code",
   "execution_count": 47,
   "metadata": {
    "ExecuteTime": {
     "end_time": "2020-03-18T04:15:08.938451Z",
     "start_time": "2020-03-18T04:15:07.871603Z"
    }
   },
   "outputs": [],
   "source": [
    "# Refit condY using the optimal distribution\n",
    "dist_name = df_fit.index[0]\n",
    "condY_para = []\n",
    "for condY_pd in self.condY_pd:\n",
    "    data = condY_pd.data\n",
    "    df_cur = joint_proba.Univariate.best_fit(data, dist_names=[dist_name], dist_config=dist_config)\n",
    "    condY_para.append(df_cur['param'][0])"
   ]
  },
  {
   "cell_type": "code",
   "execution_count": 48,
   "metadata": {
    "ExecuteTime": {
     "end_time": "2020-03-18T04:15:11.903091Z",
     "start_time": "2020-03-18T04:15:11.899072Z"
    }
   },
   "outputs": [
    {
     "data": {
      "text/plain": [
       "array([[0.62472379, 0.        , 0.48841082],\n",
       "       [0.60770009, 0.        , 0.51990295],\n",
       "       [0.57009739, 0.        , 0.5765029 ],\n",
       "       [0.52174518, 0.        , 0.65245099],\n",
       "       [0.46853979, 0.        , 0.75272553],\n",
       "       [0.41290015, 0.        , 0.89154922],\n",
       "       [0.37044746, 0.        , 1.05841326],\n",
       "       [0.33797521, 0.        , 1.24836996],\n",
       "       [0.30780082, 0.        , 1.46567173],\n",
       "       [0.28876776, 0.        , 1.69959669],\n",
       "       [0.27753888, 0.        , 1.97455637],\n",
       "       [0.26812661, 0.        , 2.28052666],\n",
       "       [0.25678984, 0.        , 2.59088177],\n",
       "       [0.25116676, 0.        , 2.92927903],\n",
       "       [0.24474231, 0.        , 3.28414141],\n",
       "       [0.239234  , 0.        , 3.65760497],\n",
       "       [0.2326578 , 0.        , 4.06273231],\n",
       "       [0.23043503, 0.        , 4.45917013],\n",
       "       [0.23529853, 0.        , 4.86868015],\n",
       "       [0.238558  , 0.        , 5.31025611],\n",
       "       [0.23757121, 0.        , 5.87513191]])"
      ]
     },
     "execution_count": 48,
     "metadata": {},
     "output_type": "execute_result"
    }
   ],
   "source": [
    "condY_para = np.vstack(condY_para)\n",
    "condY_para"
   ]
  },
  {
   "cell_type": "code",
   "execution_count": 49,
   "metadata": {
    "ExecuteTime": {
     "end_time": "2020-03-18T04:15:19.919095Z",
     "start_time": "2020-03-18T04:15:19.802437Z"
    }
   },
   "outputs": [
    {
     "data": {
      "image/png": "[encoded data removed]",
      "text/plain": [
       "<Figure size 432x288 with 1 Axes>"
      ]
     },
     "metadata": {
      "needs_background": "light"
     },
     "output_type": "display_data"
    }
   ],
   "source": [
    "plt.plot(self.condY_x, condY_para[:, 0])\n",
    "plt.plot(self.condY_x, condY_para[:, 1])\n",
    "plt.plot(self.condY_x, condY_para[:, 2])\n",
    "plt.show()"
   ]
  },
  {
   "cell_type": "code",
   "execution_count": 23,
   "metadata": {
    "ExecuteTime": {
     "end_time": "2020-03-15T01:10:32.751550Z",
     "start_time": "2020-03-15T01:10:32.741577Z"
    }
   },
   "outputs": [],
   "source": [
    "beta = std_norm.ppf(1 - 1/self.x_pd.c_rate/MRP)\n",
    "\n",
    "# MRP of independent Y for validation\n",
    "y_mrp = self.y_pd.predict(MRP=MRP)\n",
    "\n",
    "# Jagged contour\n",
    "condY_F = get_condY_F(self.x_pd, beta, self.condY_x)\n",
    "contour_jag_top = get_jaggaed_contour(self.condY_pd, condY_F)\n",
    "contour_jag_bot = get_jaggaed_contour(self.condY_pd, 1 - condY_F)\n",
    "\n",
    "# Determine range of re-parameterization\n",
    "\n",
    "# Upper contour\n",
    "condY_F = get_condY_F(self.x_pd, beta, self.x_pd.sample_coor)\n",
    "\n",
    "# Lower contour\n",
    "\n",
    "# Combine result"
   ]
  },
  {
   "cell_type": "code",
   "execution_count": 11,
   "metadata": {
    "ExecuteTime": {
     "end_time": "2020-03-15T01:03:12.845073Z",
     "start_time": "2020-03-15T01:03:12.731376Z"
    }
   },
   "outputs": [
    {
     "data": {
      "image/png": "[encoded data removed]",
      "text/plain": [
       "<Figure size 432x288 with 1 Axes>"
      ]
     },
     "metadata": {
      "needs_background": "light"
     },
     "output_type": "display_data"
    }
   ],
   "source": [
    "plt.plot(self.condY_x, contour_jag_top)\n",
    "plt.plot(self.condY_x, contour_jag_bot)\n",
    "plt.show()"
   ]
  },
  {
   "cell_type": "code",
   "execution_count": 5,
   "metadata": {
    "ExecuteTime": {
     "end_time": "2020-03-17T23:36:00.204486Z",
     "start_time": "2020-03-17T23:36:00.198473Z"
    }
   },
   "outputs": [
    {
     "name": "stdout",
     "output_type": "stream",
     "text": [
      "alpha: 1\n",
      "anglit: 0\n",
      "arcsine: 0\n",
      "argus: 1\n",
      "beta: 2\n",
      "betaprime: 2\n",
      "bradford: 1\n",
      "burr: 2\n",
      "burr12: 2\n",
      "cauchy: 0\n",
      "chi: 1\n",
      "chi2: 1\n",
      "cosine: 0\n",
      "crystalball: 2\n",
      "dgamma: 1\n",
      "dweibull: 1\n",
      "erlang: 1\n",
      "expon: 0\n",
      "exponnorm: 1\n",
      "exponpow: 1\n",
      "exponweib: 2\n",
      "f: 2\n",
      "fatiguelife: 1\n",
      "fisk: 1\n",
      "foldcauchy: 1\n",
      "foldnorm: 1\n",
      "frechet_l: 1\n",
      "frechet_r: 1\n",
      "gamma: 1\n",
      "gausshyper: 4\n",
      "genexpon: 3\n",
      "genextreme: 1\n",
      "gengamma: 2\n",
      "genhalflogistic: 1\n",
      "genlogistic: 1\n",
      "gennorm: 1\n",
      "genpareto: 1\n",
      "gilbrat: 0\n",
      "gompertz: 1\n",
      "gumbel_l: 0\n",
      "gumbel_r: 0\n",
      "halfcauchy: 0\n",
      "halfgennorm: 1\n",
      "halflogistic: 0\n",
      "halfnorm: 0\n",
      "hypsecant: 0\n",
      "invgamma: 1\n",
      "invgauss: 1\n",
      "invweibull: 1\n",
      "johnsonsb: 2\n",
      "johnsonsu: 2\n",
      "kappa3: 1\n",
      "kappa4: 2\n",
      "ksone: 1\n",
      "kstwobign: 0\n",
      "laplace: 0\n",
      "levy: 0\n",
      "levy_l: 0\n",
      "levy_stable: 2\n",
      "loggamma: 1\n",
      "logistic: 0\n",
      "loglaplace: 1\n",
      "lognorm: 1\n",
      "lomax: 1\n",
      "maxwell: 0\n",
      "mielke: 2\n",
      "moyal: 0\n",
      "nakagami: 1\n",
      "ncf: 3\n",
      "nct: 2\n",
      "ncx2: 2\n",
      "norm: 0\n",
      "norminvgauss: 2\n",
      "pareto: 1\n",
      "pearson3: 1\n",
      "powerlaw: 1\n",
      "powerlognorm: 2\n",
      "powernorm: 1\n",
      "rayleigh: 0\n",
      "rdist: 1\n",
      "recipinvgauss: 1\n",
      "reciprocal: 2\n",
      "rice: 1\n",
      "semicircular: 0\n",
      "skewnorm: 1\n",
      "t: 1\n",
      "trapz: 2\n",
      "triang: 1\n",
      "truncexpon: 1\n",
      "truncnorm: 2\n",
      "tukeylambda: 1\n",
      "uniform: 0\n",
      "vonmises: 1\n",
      "vonmises_line: 1\n",
      "wald: 0\n",
      "weibull_max: 1\n",
      "weibull_min: 1\n",
      "wrapcauchy: 1\n"
     ]
    }
   ],
   "source": [
    "for dist_name in [d for d in dir(stats) if isinstance(getattr(stats, d), stats.rv_continuous)]:\n",
    "    print(f'{dist_name}: {getattr(stats, dist_name).numargs}')"
   ]
  }
 ],
 "metadata": {
  "kernelspec": {
   "display_name": "Python 3",
   "language": "python",
   "name": "python3"
  },
  "language_info": {
   "codemirror_mode": {
    "name": "ipython",
    "version": 3
   },
   "file_extension": ".py",
   "mimetype": "text/x-python",
   "name": "python",
   "nbconvert_exporter": "python",
   "pygments_lexer": "ipython3",
   "version": "3.7.4"
  },
  "toc": {
   "base_numbering": 1,
   "nav_menu": {},
   "number_sections": true,
   "sideBar": true,
   "skip_h1_title": false,
   "title_cell": "Table of Contents",
   "title_sidebar": "Contents",
   "toc_cell": false,
   "toc_position": {},
   "toc_section_display": true,
   "toc_window_display": false
  },
  "varInspector": {
   "cols": {
    "lenName": 16,
    "lenType": 16,
    "lenVar": 40
   },
   "kernels_config": {
    "python": {
     "delete_cmd_postfix": "",
     "delete_cmd_prefix": "del ",
     "library": "var_list.py",
     "varRefreshCmd": "print(var_dic_list())"
    },
    "r": {
     "delete_cmd_postfix": ") ",
     "delete_cmd_prefix": "rm(",
     "library": "var_list.r",
     "varRefreshCmd": "cat(var_dic_list()) "
    }
   },
   "types_to_exclude": [
    "module",
    "function",
    "builtin_function_or_method",
    "instance",
    "_Feature"
   ],
   "window_display": false
  }
 },
 "nbformat": 4,
 "nbformat_minor": 2
}
