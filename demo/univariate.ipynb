{
 "cells": [
  {
   "cell_type": "code",
   "execution_count": 1,
   "metadata": {
    "ExecuteTime": {
     "end_time": "2020-04-04T04:23:09.657642Z",
     "start_time": "2020-04-04T04:23:09.653652Z"
    }
   },
   "outputs": [],
   "source": [
    "import sys\n",
    "sys.path.append('../')"
   ]
  },
  {
   "cell_type": "code",
   "execution_count": 5,
   "metadata": {
    "ExecuteTime": {
     "end_time": "2020-04-04T04:36:48.920397Z",
     "start_time": "2020-04-04T04:36:48.903443Z"
    }
   },
   "outputs": [
    {
     "name": "stdout",
     "output_type": "stream",
     "text": [
      "The autoreload extension is already loaded. To reload it, use:\n",
      "  %reload_ext autoreload\n"
     ]
    }
   ],
   "source": [
    "import pandas as pd\n",
    "import matplotlib.pyplot as plt\n",
    "%load_ext autoreload\n",
    "%autoreload 1\n",
    "%aimport pyEC.univariate"
   ]
  },
  {
   "cell_type": "code",
   "execution_count": null,
   "metadata": {
    "ExecuteTime": {
     "end_time": "2020-04-04T04:23:14.448469Z",
     "start_time": "2020-04-04T04:23:14.254Z"
    }
   },
   "outputs": [],
   "source": [
    "font_size = 12\n",
    "plt.rc('font', size=font_size)\n",
    "plt.rc('axes', titlesize=font_size)\n",
    "plt.rc('axes', labelsize=font_size)\n",
    "plt.rc('xtick', labelsize=font_size)\n",
    "plt.rc('ytick', labelsize=font_size)\n",
    "plt.rc('legend', fontsize=font_size)\n",
    "plt.rc('figure', titlesize=font_size)"
   ]
  },
  {
   "cell_type": "code",
   "execution_count": 4,
   "metadata": {
    "ExecuteTime": {
     "end_time": "2020-04-04T04:11:43.503392Z",
     "start_time": "2020-04-04T04:11:43.487436Z"
    }
   },
   "outputs": [
    {
     "data": {
      "text/html": [
       "<div>\n",
       "<style scoped>\n",
       "    .dataframe tbody tr th:only-of-type {\n",
       "        vertical-align: middle;\n",
       "    }\n",
       "\n",
       "    .dataframe tbody tr th {\n",
       "        vertical-align: top;\n",
       "    }\n",
       "\n",
       "    .dataframe thead th {\n",
       "        text-align: right;\n",
       "    }\n",
       "</style>\n",
       "<table border=\"1\" class=\"dataframe\">\n",
       "  <thead>\n",
       "    <tr style=\"text-align: right;\">\n",
       "      <th></th>\n",
       "      <th>wind speed (m/s)</th>\n",
       "      <th>significant wave height (m)</th>\n",
       "    </tr>\n",
       "    <tr>\n",
       "      <th>time (YYYY-MM-DD-HH)</th>\n",
       "      <th></th>\n",
       "      <th></th>\n",
       "    </tr>\n",
       "  </thead>\n",
       "  <tbody>\n",
       "    <tr>\n",
       "      <th>1965-01-01 00:00:00</th>\n",
       "      <td>15.3839</td>\n",
       "      <td>3.9879</td>\n",
       "    </tr>\n",
       "    <tr>\n",
       "      <th>1965-01-01 01:00:00</th>\n",
       "      <td>15.4990</td>\n",
       "      <td>4.0086</td>\n",
       "    </tr>\n",
       "  </tbody>\n",
       "</table>\n",
       "</div>"
      ],
      "text/plain": [
       "                       wind speed (m/s)   significant wave height (m)\n",
       "time (YYYY-MM-DD-HH)                                                 \n",
       "1965-01-01 00:00:00             15.3839                        3.9879\n",
       "1965-01-01 01:00:00             15.4990                        4.0086"
      ]
     },
     "execution_count": 4,
     "metadata": {},
     "output_type": "execute_result"
    }
   ],
   "source": [
    "import pickle\n",
    "# df = pd.read_csv('../datasets/D.txt', sep=';', index_col=0, parse_dates=True)\n",
    "with open('../datasets/D.pkl', 'rb') as f:\n",
    "    df = pickle.load(f)\n",
    "\n",
    "df.head(2)"
   ]
  },
  {
   "cell_type": "code",
   "execution_count": 10,
   "metadata": {
    "ExecuteTime": {
     "end_time": "2020-04-04T04:15:32.356701Z",
     "start_time": "2020-04-04T04:15:32.314784Z"
    }
   },
   "outputs": [],
   "source": [
    "data = df.iloc[:, 0]\n",
    "urv = pyEC.Univariate.Univariate(data, sample_coor=np.linspace(0, 2*data.max(), 1000))\n",
    "urv.fit(outlier_detect=True)\n",
    "urv.plot_diagnosis()"
   ]
  }
 ],
 "metadata": {
  "kernelspec": {
   "display_name": "Python 3",
   "language": "python",
   "name": "python3"
  },
  "language_info": {
   "codemirror_mode": {
    "name": "ipython",
    "version": 3
   },
   "file_extension": ".py",
   "mimetype": "text/x-python",
   "name": "python",
   "nbconvert_exporter": "python",
   "pygments_lexer": "ipython3",
   "version": "3.7.7"
  },
  "toc": {
   "base_numbering": 1,
   "nav_menu": {},
   "number_sections": true,
   "sideBar": true,
   "skip_h1_title": false,
   "title_cell": "Table of Contents",
   "title_sidebar": "Contents",
   "toc_cell": false,
   "toc_position": {},
   "toc_section_display": true,
   "toc_window_display": false
  },
  "varInspector": {
   "cols": {
    "lenName": 16,
    "lenType": 16,
    "lenVar": 40
   },
   "kernels_config": {
    "python": {
     "delete_cmd_postfix": "",
     "delete_cmd_prefix": "del ",
     "library": "var_list.py",
     "varRefreshCmd": "print(var_dic_list())"
    },
    "r": {
     "delete_cmd_postfix": ") ",
     "delete_cmd_prefix": "rm(",
     "library": "var_list.r",
     "varRefreshCmd": "cat(var_dic_list()) "
    }
   },
   "types_to_exclude": [
    "module",
    "function",
    "builtin_function_or_method",
    "instance",
    "_Feature"
   ],
   "window_display": false
  }
 },
 "nbformat": 4,
 "nbformat_minor": 2
}
